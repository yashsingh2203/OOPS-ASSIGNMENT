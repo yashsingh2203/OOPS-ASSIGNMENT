{
  "nbformat": 4,
  "nbformat_minor": 0,
  "metadata": {
    "colab": {
      "private_outputs": true,
      "provenance": []
    },
    "kernelspec": {
      "name": "python3",
      "display_name": "Python 3"
    },
    "language_info": {
      "name": "python"
    }
  },
  "cells": [
    {
      "cell_type": "markdown",
      "source": [
        "QUESTION-- ANSWER\n"
      ],
      "metadata": {
        "id": "ugaOX3rz1vS6"
      }
    },
    {
      "cell_type": "markdown",
      "source": [
        "Q.1 WHAT IS OBJECT -ORIENTED PROGRAMMING(OOPS)?\n",
        "\n",
        "  Object oriented programming is a programming paradigm based on the concept of \"object\", which can contain data and code.\n",
        "\n",
        "  There is 5 key concepts in oops .\n",
        "  \n",
        "  OBJECTS, CLASSES, INHERITANCE, POLYMORPHISM, ENCAPSULATION."
      ],
      "metadata": {
        "id": "HLFwP5mt13ZZ"
      }
    },
    {
      "cell_type": "markdown",
      "source": [
        "Q.2 what is class in oops?.\n",
        "\n",
        "  Class are blueprint\\template for creating an object .\n",
        "\n",
        "   we are different object of class human beings.\n",
        "\n",
        "   class is nothing but a template.\n",
        "\n",
        "class defines the properties (attributes) and behaviours (methods) that objects of that class will have.\n",
        "\n"
      ],
      "metadata": {
        "id": "laGEYiFh6pwg"
      }
    },
    {
      "cell_type": "markdown",
      "source": [
        "Q.3 what is an object in oops?\n",
        "\n",
        "In OOP, an object is an instance of a class. It's a concrete realization of the blueprint defined by the class.\n",
        "\n",
        "Think of it like this:\n",
        "\n",
        "Class: A blueprint for creating cookies.\n",
        "Object: An individual cookie created using the blueprint.\n",
        "\n"
      ],
      "metadata": {
        "id": "3P3KR3za706g"
      }
    },
    {
      "cell_type": "markdown",
      "source": [
        "Q.4 what is difference between abstraction and encapsulation?\n",
        "\n",
        "Abstraction\n",
        "\n",
        "Abstraction focuses on hiding the complex internal details of an object and presenting only the essential information to the user. It simplifies interaction by providing a high-level view, without revealing the inner workings.\n",
        "\n",
        "Encapsulation\n",
        "\n",
        "Encapsulation, on the other hand, is about bundling data (attributes) and the methods (functions) that operate on that data within a single unit, typically a class.\n"
      ],
      "metadata": {
        "id": "UC1HMdCI8X8O"
      }
    },
    {
      "cell_type": "markdown",
      "source": [
        "Q.5 what are dunder method in python?\n",
        "\n",
        "Dunder methods, also known as magic methods or special methods, are methods in Python that have double underscores () at the beginning and end of their names. For example, `init__,str, andadd` are dunder methods.\n"
      ],
      "metadata": {
        "id": "xabRIQ0fb41x"
      }
    },
    {
      "cell_type": "markdown",
      "source": [
        "Q.6 explain the concept of inheritance in oops?:\n",
        "\n",
        "Inheritance is a fundamental concept in OOP that allows you to create new classes (called derived or child classes) based on existing classes (called base or parent classes). The derived class inherits the properties and behaviors of the base class, and it can also add its own unique feature."
      ],
      "metadata": {
        "id": "uKoC5dBncKQB"
      }
    },
    {
      "cell_type": "markdown",
      "source": [
        "Q.7 what is polymorphism in oops?\n",
        "\n",
        "\n",
        "Polymorphism, meaning \"many forms,\" is a key principle in OOP that allows objects of different classes to be treated as objects of a common type. It enables you to write code that can work with objects of various types without needing to know their specific class.\n",
        "\n",
        "\n"
      ],
      "metadata": {
        "id": "emZ3DwR5cdlK"
      }
    },
    {
      "cell_type": "markdown",
      "source": [
        "Q.8 how is encapsulation achieved in python ?\n",
        "\n",
        "Encapsulation in Python\n",
        "\n",
        "Encapsulation is the principle of bundling data (attributes) and the methods (functions) that operate on that data within a single unit, typically a class.\n",
        "\n",
        "Public members: Attributes and methods are considered public by default and can be accessed directly from outside the class.\n",
        "\n",
        "Private members: Attributes and methods prefixed with a single underscore (_) are considered private and are intended for internal use within the class.\n",
        "\n",
        "protected method: Attributes and methods prefixed with double underscores (__) are considered protected method and are name-mangled to make them harder to access from outside the class. This is a stronger form of encapsulation but is not fullproof..\n"
      ],
      "metadata": {
        "id": "aYTCzRcucwcJ"
      }
    },
    {
      "cell_type": "markdown",
      "source": [
        "Q.9 what is a constructor in python?\n",
        "\n",
        "In Python, a constructor is a special method called __init__ that is automatically executed when an object of a class is created. It's used to initialize the object's attributes with default or user-defined values.."
      ],
      "metadata": {
        "id": "xnV4QqBCdjaJ"
      }
    },
    {
      "cell_type": "markdown",
      "source": [
        "Q.10 what are class and static method in python ?\n",
        "\n",
        "class methods are methods that are bound to the class and not to any specific object of the class. They can access and modify class-level attributes but not instance-level attributes..\n",
        "\n",
        "\n",
        " Static methods are methods that are bound to the class and not to any specific object of the class. They don't have access to either class-level or instance-level attributes. They are essentially like regular functions that happen to be defined within a class.\n"
      ],
      "metadata": {
        "id": "HUOZw-H7eCqw"
      }
    },
    {
      "cell_type": "markdown",
      "source": [
        "Q.11 what is method overloading in python?\n",
        "\n",
        "Method overloading is the ability to define multiple methods with the same name but with different parameters within the same class. The correct method to be called is determined at runtime based on the number and types of arguments passed..\n",
        "\n",
        "But python does'nt support it.\n"
      ],
      "metadata": {
        "id": "YtrLjUfde_QR"
      }
    },
    {
      "cell_type": "markdown",
      "source": [
        "Q.12 what is method overriding in python?\n",
        "\n",
        "Method overriding is a concept in object-oriented programming where a subclass provides its own implementation of a method that is already defined in its superclass (base class). When you call the method on an object of the subclass, the overridden version in the subclass is executed instead of the version in the superclass."
      ],
      "metadata": {
        "id": "YNxub6oHgQHQ"
      }
    },
    {
      "cell_type": "markdown",
      "source": [
        "Q.13 What is property decorator in python ?\n",
        "\n",
        "In Python, the property decorator is a built-in function that allows you to define methods that behave like attributes. This means you can access them without using parentheses, but they can execute code behind the scenes, like a method. .\n",
        "\n"
      ],
      "metadata": {
        "id": "-Aas4ukWR6Xn"
      }
    },
    {
      "cell_type": "markdown",
      "source": [
        "Q.14 Why is polymorphism important in oop?\n",
        "\n",
        "Polymorphism, meaning \"many forms,\" is a key principle in OOP that allows objects of different classes to be treated as objects of a common type.\n",
        " * flexiblity and reusablity\n",
        " * code maintainablity and extainblity.\n"
      ],
      "metadata": {
        "id": "yjlhMxp3Ucr_"
      }
    },
    {
      "cell_type": "markdown",
      "source": [
        "Q.15 what is an abstract class in python?\n",
        "\n",
        "Abstract Classes in Python\n",
        "\n",
        "An abstract class in Python is a class that cannot be instantiated on its own. It serves as a blueprint for other classes (called concrete classes) and defines a common interface that its subclasses must implement. Abstract classes often contain abstract methods, which are declared but have no implementation in the abstract class itself.\n",
        "\n",
        "\n"
      ],
      "metadata": {
        "id": "9gmQYdpDVPC3"
      }
    },
    {
      "cell_type": "markdown",
      "source": [
        "Q.16 what are the advantages of oop?\n",
        "\n",
        "Modularity and Reusability: OOP promotes the creation of modular, reusable code through the use of classes and objects.\n",
        "\n",
        "Data Encapsulation and Security: OOP provides mechanisms for data encapsulation, protecting data from unauthorized access or modification. By bundling data and methods within classes, you can control how data is accessed and manipulated, ensuring data integrity and security.\n",
        "\n",
        "Abstraction and Simplicity: OOP allows you to abstract away complex implementation details and present a simplified interface to users. This reduces the cognitive load on developers and makes code easier to understand and maintain.\n",
        "\n",
        "Flexibility and Maintainability: OOP facilitates code flexibility and maintainability by promoting loose coupling between objects. Changes to one part of the code are less likely to affect other parts, making it easier to update and maintain the software over time.\n"
      ],
      "metadata": {
        "id": "btA-UB4AV0tY"
      }
    },
    {
      "cell_type": "markdown",
      "source": [
        "Q.17 what is the difference between a class variable and an instance variable ?\n",
        "\n",
        "Class Variables\n",
        "\n",
        "Definition: Class variables are variables that are shared by all instances (objects) of a class. They are defined within the class but outside of any methods.\n",
        "\n",
        "Class variables are accessible to all instances of the class, as well as to the class itself\n",
        "\n",
        "\n",
        "Instance Variables\n",
        "\n",
        "Definition: Instance variables are variables that are unique to each instance (object) of a class. They are defined within the methods of the class, usually within the __init__ constructor.\n",
        "Scope: Instance variables are only accessible to the specific instance they belong to.\n",
        "\n"
      ],
      "metadata": {
        "id": "fAeaPqKKWL9f"
      }
    },
    {
      "cell_type": "markdown",
      "source": [
        "Q.18 what is multiple inheritance in python ?\n",
        "\n",
        "Multiple Inheritance\n",
        "\n",
        "Multiple inheritance is a feature in object-oriented programming where a class can inherit from multiple base classes. This means that a derived class can inherit attributes and methods from multiple parent classes, combining their functionalities.\n",
        "\n",
        "```\n",
        "class Animal:\n",
        "    def speak(self):\n",
        "        print(\"Generic animal sound\")\n",
        "\n",
        "class Dog(Animal):\n",
        "    def speak(self):\n",
        "        print(\"Woof\")\n",
        "\n",
        "class Cat(Animal):\n",
        "    def speak(self):\n",
        "        print(\"Meow\")\n",
        "\n",
        "class DogCat(Dog, Cat):\n",
        "    pass\n",
        "\n",
        "# Create an instance of DogCat\n",
        "dogcat = DogCat()\n",
        "\n",
        "# Call the speak method\n",
        "dogcat.speak()\n",
        "```"
      ],
      "metadata": {
        "id": "NVz9sTpsWwug"
      }
    },
    {
      "cell_type": "markdown",
      "source": [
        "Q.19 Explain the purpose of \"__ str__\", 'and', \"__repr__\" method in python ?\n",
        "\n",
        "__str__ Method\n",
        "\n",
        "Purpose: The __str__ method is used to provide a human-readable string representation of an object. It's intended for end-users and should be informative and easy to understand.\n",
        "\n",
        " The __str__ method is called when you use the str() function on an object or when you print an object using the print() function.\n",
        "\n",
        " __repr__ Method\n",
        "\n",
        "Purpose: The __repr__ method is used to provide an unambiguous string representation of an object. It's intended for developers and should be detailed enough to recreate the object.\n",
        "\n",
        " The __repr__ method is called when you use the repr() function on an object or when you evaluate an object in an interactive Python shell.\n",
        "\n",
        "\n"
      ],
      "metadata": {
        "id": "_68-QQQtXVL4"
      }
    },
    {
      "cell_type": "markdown",
      "source": [
        "Q.20 what is the significance of the 'super()' function in python?\n",
        "\n",
        "Significance of super()\n",
        "\n",
        "The super() function in Python is used to call a method from a parent class. It is primarily used in the context of inheritance, where a child class inherits from a parent class.\n",
        "\n",
        "hence, accessing parent class methods, and maintaining inheritance hierarchy. is possible.\n"
      ],
      "metadata": {
        "id": "IVgsquhBYlkn"
      }
    },
    {
      "cell_type": "markdown",
      "source": [
        "Q.21 what is the significance of the __del__ method in python ?\n",
        "\n",
        "The __del__ Method\n",
        "\n",
        "In Python, the __del__ method is a special method, also known as a destructor. It is called when an object is about to be destroyed or garbage collected. This method provides a way to perform cleanup actions before the object is removed from memory.\n",
        "\n",
        "It perform cleanup action , and resource management .\n"
      ],
      "metadata": {
        "id": "LcLh4bkQZPaY"
      }
    },
    {
      "cell_type": "markdown",
      "source": [
        "Q.22 what is the difference between @staticmethod and @classmethod in python?\n",
        "\n",
        "\n",
        "@staticmethod\n",
        "\n",
        "Definition: A static method is a method that is bound to the class and not to any specific object of the class. It does not have access to either class-level or instance-level attributes.\n",
        "\n",
        "Static methods are essentially like regular functions that happen to be defined within a class. They are typically used for utility functions that are related to the class but do not operate on any specific instance.\n",
        "\n",
        "@classmethod\n",
        "\n",
        "Definition: A class method is a method that is bound to the class and not to any specific object of the class. It can access and modify class-level attributes but not instance-level attributes.\n",
        "\n",
        " Class methods are often used to create alternative constructors for a class or to perform operations that involve the class itself rather than a specific instance.\n",
        "\n"
      ],
      "metadata": {
        "id": "wySS1MUfZ-me"
      }
    },
    {
      "cell_type": "markdown",
      "source": [
        "Q.23 How does polymorphism work in python with inheritance ?\n",
        "\n",
        "Polymorphism, meaning \"many forms,\" is a key principle in object-oriented programming that allows objects of different classes to be treated as objects of a common type. In Python, polymorphism is achieved through inheritance and method overriding.\n",
        "\n",
        "In inheritance : a child class inherits methods from its parent class.\n",
        "\n",
        "\n",
        "```\n",
        "class Animal:\n",
        "    def speak(self):\n",
        "        print(\"Generic animal sound\")\n",
        "\n",
        "class Dog(Animal):\n",
        "    def speak(self):\n",
        "        print(\"Woof\")\n",
        "\n",
        "class Cat(Animal):\n",
        "    def speak(self):\n",
        "        print(\"Meow\")\n",
        "\n",
        "#  different classes\n",
        "animal = Animal()\n",
        "dog = Dog()\n",
        "cat = Cat()\n",
        "\n",
        "# calling.\n",
        "animal.speak()  \n",
        "dog.speak()  \n",
        "cat.speak()  \n",
        "\n",
        "```"
      ],
      "metadata": {
        "id": "NtMpBoCtardW"
      }
    },
    {
      "cell_type": "markdown",
      "source": [
        "Q.24 what is method chaining in python ?\n",
        "\n",
        "\n",
        "Method Chaining\n",
        "\n",
        "Method chaining is a technique in OOP that allows you to call multiple methods on an object in a single statement, without using intermediate variables. This is achieved by having each method return the object itself (self) as its result.\n",
        "\n",
        "Benefits of Method Chaining\n",
        "\n",
        "Readability: Method chaining can make code more concise and easier to read by eliminating the need for temporary variables. It creates a fluent and expressive coding style.\n",
        "\n",
        "Efficiency: In some cases, method chaining can improve performance by reducing the number of object lookups and assignments.\n",
        "\n",
        "Reduced Code: Method chaining eliminates the need to repeat the object name multiple times, leading to less code.\n"
      ],
      "metadata": {
        "id": "GDeJS2a0b4XW"
      }
    },
    {
      "cell_type": "markdown",
      "source": [
        "Q.25 what is the purpose of the __call__ method in python?\n",
        "\n",
        "The __call__ method in Python allows you to make an object callable, meaning you can treat it like a function and call it using parentheses (). When you call an object using parentheses, Python automatically invokes the __call__ method of that object.\n",
        "\n"
      ],
      "metadata": {
        "id": "M7KzSGRlcRve"
      }
    },
    {
      "cell_type": "markdown",
      "source": [
        "PRACTICAL QUESTION ..\n"
      ],
      "metadata": {
        "id": "ya8tKXDQwYNu"
      }
    },
    {
      "cell_type": "markdown",
      "source": [
        "1. Create a parent class animal with a method speak()  that print a genric message . create a child class dog that overrides the speak () method to print \"bark!\".\n"
      ],
      "metadata": {
        "id": "77_PG4h0wxN-"
      }
    },
    {
      "cell_type": "code",
      "source": [
        "class Animal:\n",
        "    def speak(self):\n",
        "        print(\"Generic animal sound\")\n",
        "\n",
        "class Dog(Animal):\n",
        "    def speak(self):\n",
        "        print(\"Bark!\")\n",
        "\n",
        "animal = Animal()\n",
        "dog = Dog()\n",
        "\n",
        "# Call the speak method on each instance\n",
        "animal.speak()  # Output: Generic animal sound\n",
        "dog.speak()  # Output: Bark!"
      ],
      "metadata": {
        "id": "CarPpVgixRsm"
      },
      "execution_count": null,
      "outputs": []
    },
    {
      "cell_type": "markdown",
      "source": [
        "2.Write a program to create an abstract class shape with a method area(). derive classes circle and rectangle from it and implement the area () method in both ?\n"
      ],
      "metadata": {
        "id": "LwcfyxABxlUW"
      }
    },
    {
      "cell_type": "code",
      "source": [
        "from abc import ABC, abstractmethod\n",
        "import math\n",
        "\n",
        "class Shape(ABC):  # Abstract base class\n",
        "    @abstractmethod\n",
        "    def area(self):\n",
        "        pass\n",
        "\n",
        "class Circle(Shape):\n",
        "    def __init__(self, radius):\n",
        "        self.radius = radius\n",
        "\n",
        "    def area(self):\n",
        "        return math.pi * self.radius**2\n",
        "\n",
        "class Rectangle(Shape):\n",
        "    def __init__(self, length, width):\n",
        "        self.length = length\n",
        "        self.width = width\n",
        "\n",
        "    def area(self):\n",
        "        return self.length * self.width\n",
        "\n",
        "circle = Circle(5)\n",
        "rectangle = Rectangle(4, 6)\n",
        "\n",
        "print(f\"Circle area: {circle.area()}\")  # Output: Circle area: 78.53981633974483\n",
        "print(f\"Rectangle area: {rectangle.area()}\")  # Output: Rectangle area: 24"
      ],
      "metadata": {
        "id": "2jUrEMdRzMe1"
      },
      "execution_count": null,
      "outputs": []
    },
    {
      "cell_type": "markdown",
      "source": [
        "3.Implement a multi level inheritance scenario where a class vehicle has an attribute type. Derive a class car and further derive a class electric car that adds a battery attributes?\n"
      ],
      "metadata": {
        "id": "32WY81GMzTpF"
      }
    },
    {
      "cell_type": "code",
      "source": [
        "class Vehicle:\n",
        "    def __init__(self, type):\n",
        "        self.type = type\n",
        "\n",
        "class Car(Vehicle):\n",
        "    def __init__(self, type, model):\n",
        "        super().__init__(type)\n",
        "        self.model = model\n",
        "\n",
        "class ElectricCar(Car):\n",
        "    def __init__(self, type, model, battery_capacity):\n",
        "        super().__init__(type, model)\n",
        "        self.battery_capacity = battery_capacity\n",
        "\n",
        "vehicle = Vehicle(\"Generic Vehicle\")\n",
        "car = Car(\"suv\", \"fortuner\")\n",
        "electric_car = ElectricCar(\"Electric\", \"Tata nexon\", \"75 kWh\")\n",
        "\n",
        "# Access attributes\n",
        "print(f\"Vehicle Type: {vehicle.type}\")\n",
        "print(f\"Car Type: {car.type}, Model: {car.model}\")\n",
        "print(f\"Electric Car Type: {electric_car.type}, Model: {electric_car.model}, Battery: {electric_car.battery_capacity}\")"
      ],
      "metadata": {
        "id": "ekRW1dQ8z1Pu"
      },
      "execution_count": null,
      "outputs": []
    },
    {
      "cell_type": "markdown",
      "source": [
        "4. Demonstrate polymorphism by creating a base class bird with a method fly(). create two derived classes sparrow and penguin that overrides the fly() method ?\n"
      ],
      "metadata": {
        "id": "g7eaCQTo4Ck7"
      }
    },
    {
      "cell_type": "code",
      "source": [
        "class Bird:\n",
        "    def fly(self):\n",
        "        print(\"Generic bird flying\")\n",
        "\n",
        "class Sparrow(Bird):\n",
        "    def fly(self):\n",
        "        print(\"Sparrow flying\")\n",
        "\n",
        "class Penguin(Bird):\n",
        "    def fly(self):\n",
        "        print(\"Penguins can't fly, they walk \")\n",
        "\n",
        "bird = Bird()\n",
        "sparrow = Sparrow()\n",
        "penguin = Penguin()\n",
        "\n",
        "# Demonstrate polymorphism\n",
        "for bird_instance in [bird, sparrow, penguin]:\n",
        "    bird_instance.fly()"
      ],
      "metadata": {
        "id": "atXc43Rr4vUE"
      },
      "execution_count": null,
      "outputs": []
    },
    {
      "cell_type": "markdown",
      "source": [
        "5. Write a program to demeostrate encapsulation by creating a class bank account with private attributes balance and method to deposits , withdraw , and check balance ?\n"
      ],
      "metadata": {
        "id": "kFPGTJ4945Vd"
      }
    },
    {
      "cell_type": "code",
      "source": [
        "class BankAccount:\n",
        "    def __init__(self, initial_balance=0):\n",
        "        self.__balance = initial_balance  # Private attribute\n",
        "\n",
        "    def deposit(self, amount):\n",
        "        if amount > 0:\n",
        "            self.__balance += amount\n",
        "            print(f\"Deposited: ₹{amount}\")\n",
        "        else:\n",
        "            print(\"Invalid deposit amount.\")\n",
        "\n",
        "    def withdraw(self, amount):\n",
        "        if 0 < amount <= self.__balance:\n",
        "            self.__balance -= amount\n",
        "            print(f\"Withdrawn:₹{amount}\")\n",
        "        else:\n",
        "            print(\"Insufficient funds or invalid withdrawal amount.\")\n",
        "\n",
        "    def check_balance(self):\n",
        "        print(f\"Current balance: ₹{self.__balance}\")\n",
        "\n",
        "# Create an account\n",
        "account = BankAccount(1000)\n",
        "\n",
        "# Perform operations\n",
        "account.deposit(500)\n",
        "account.withdraw(200)\n",
        "account.check_balance()"
      ],
      "metadata": {
        "id": "QS-CaBa75X28"
      },
      "execution_count": null,
      "outputs": []
    },
    {
      "cell_type": "markdown",
      "source": [
        "6. Demonstrate runtime polymorphism using a method play() in base class instrument . Deriveclasses guitar and piano that implement their own version of play?\n"
      ],
      "metadata": {
        "id": "Ye0TBxYu6Qs8"
      }
    },
    {
      "cell_type": "code",
      "source": [
        "class Instrument:\n",
        "    def play(self):\n",
        "        print(\"Playing a generic instrument sound\")\n",
        "\n",
        "class Guitar(Instrument):\n",
        "    def play(self):\n",
        "        print(\"Strumming the guitar\")\n",
        "\n",
        "class Piano(Instrument):\n",
        "    def play(self):\n",
        "        print(\"Playing the piano keys\")\n",
        "instrument = Instrument()\n",
        "guitar = Guitar()\n",
        "piano = Piano()\n",
        "\n",
        "# Demonstrate polymorphism\n",
        "for instrument_instance in [instrument, guitar, piano]:\n",
        "    instrument_instance.play()"
      ],
      "metadata": {
        "id": "I5B0fgkB6498"
      },
      "execution_count": null,
      "outputs": []
    },
    {
      "cell_type": "markdown",
      "source": [
        "7.Create a class math operation with a class method add_number() to add two numbers and a static method subtract_number () to subtract two numbers?"
      ],
      "metadata": {
        "id": "gT2aTDB36Qq-"
      }
    },
    {
      "cell_type": "code",
      "source": [
        "class MathOperation:\n",
        "    @classmethod\n",
        "    def add_number(cls, a, b):\n",
        "        return a + b\n",
        "\n",
        "    @staticmethod\n",
        "    def subtract_number(a, b):\n",
        "        return a - b\n",
        "\n",
        "# Example usage:\n",
        "print(MathOperation.add_number(5, 3))  # Output: 8\n",
        "print(MathOperation.subtract_number(10, 4))  # Output: 6\n"
      ],
      "metadata": {
        "id": "BNFpzGpy8YzU"
      },
      "execution_count": null,
      "outputs": []
    },
    {
      "cell_type": "markdown",
      "source": [
        "8.Implement a class person with a class method to count the total number of person created ?"
      ],
      "metadata": {
        "id": "n63yb_Hg9UDU"
      }
    },
    {
      "cell_type": "code",
      "source": [
        "class Person:\n",
        "    count = 0  # Class variable\n",
        "\n",
        "    def __init__(self, name):\n",
        "        self.name = name\n",
        "        Person.count += 1\n",
        "\n",
        "    @classmethod\n",
        "    def total_persons(cls):\n",
        "        return cls.count\n",
        "\n",
        "# Example usage:\n",
        "p1 = Person(\"YASH \")\n",
        "p2 = Person(\"ADITYA\")\n",
        "print(Person.total_persons())  # Output: 2\n"
      ],
      "metadata": {
        "id": "JZ7FzHEF9p1l"
      },
      "execution_count": null,
      "outputs": []
    },
    {
      "cell_type": "markdown",
      "source": [
        "9.Write a class fraction with attributes numerator and denominator . Overrides the str method to display the fraction as \"numerator/denominator\"?"
      ],
      "metadata": {
        "id": "4BnmKGwyoFx-"
      }
    },
    {
      "cell_type": "code",
      "source": [
        "class Fraction:\n",
        "    def __init__(self, numerator, denominator):\n",
        "        if denominator == 0:\n",
        "            raise ValueError(\"Denominator cannot be zero.\")\n",
        "        self.numerator = numerator\n",
        "        self.denominator = denominator\n",
        "\n",
        "    def __str__(self):\n",
        "        return f\"{self.numerator}/{self.denominator}\"\n",
        "\n",
        "f = Fraction(3, 4)\n",
        "print(f)  # Output: 3/4"
      ],
      "metadata": {
        "id": "m0uNWcyeovs0"
      },
      "execution_count": null,
      "outputs": []
    },
    {
      "cell_type": "markdown",
      "source": [
        "10. Demonstrate operator overloading by creating a class vector and overriding the add method to add two vector?"
      ],
      "metadata": {
        "id": "cfT3nGXVo38e"
      }
    },
    {
      "cell_type": "code",
      "source": [
        "class Vector:\n",
        "    def __init__(self, x, y):\n",
        "        self.x = x\n",
        "        self.y = y\n",
        "\n",
        "    def __add__(self, other):\n",
        "        if not isinstance(other, Vector):\n",
        "            return NotImplemented\n",
        "        return Vector(self.x + other.x, self.y + other.y)\n",
        "\n",
        "    def __str__(self):\n",
        "        return f\"Vector({self.x}, {self.y})\"\n",
        "\n",
        "v1 = Vector(2, 3)\n",
        "v2 = Vector(4, 5)\n",
        "v3 = v1 + v2\n",
        "print(v3)  # Output: Vector(6, 8)"
      ],
      "metadata": {
        "id": "FAK00ftqpSlS"
      },
      "execution_count": null,
      "outputs": []
    },
    {
      "cell_type": "markdown",
      "source": [
        "11. Create a class person with attributes name ,age . Add a method greet() that prints \"hello,my name is {name} and I am {age} years old?"
      ],
      "metadata": {
        "id": "ULUhMYQKpZIe"
      }
    },
    {
      "cell_type": "code",
      "source": [
        "class Person:\n",
        "    def __init__(self, name, age):\n",
        "        self.name = name\n",
        "        self.age = age\n",
        "\n",
        "    def greet(self):\n",
        "        print(f\"Hello, my name is {self.name} and I am {self.age} years old.\")\n",
        "\n",
        "# Example usage:\n",
        "p = Person(\"yash singh\", 20)\n",
        "p.greet()  # Output: Hello, my name is Yash singh and I am 20 years old."
      ],
      "metadata": {
        "id": "wxnPpa5qp4hv"
      },
      "execution_count": null,
      "outputs": []
    },
    {
      "cell_type": "markdown",
      "source": [
        "12. Implement a class student with attributes name and grades . create a method average_grade() to compute the average of the grades?"
      ],
      "metadata": {
        "id": "uyd4hRDcqwa-"
      }
    },
    {
      "cell_type": "code",
      "source": [
        "class Student:\n",
        "    def __init__(self, name, grades):\n",
        "        self.name = name\n",
        "        self.grades = grades\n",
        "\n",
        "    def average_grade(self):\n",
        "        if not self.grades:\n",
        "            return 0\n",
        "        return sum(self.grades) / len(self.grades)\n",
        "\n",
        "s = Student(\"yash singh\", [85, 90, 78, 92])\n",
        "print(s.average_grade())  # Output: 86.25"
      ],
      "metadata": {
        "id": "8VCoE7zVrNOe"
      },
      "execution_count": null,
      "outputs": []
    },
    {
      "cell_type": "markdown",
      "source": [
        "13. Create  a class rectangle with method set_dimensions() to set the dimensions and area() to calculate the area ?"
      ],
      "metadata": {
        "id": "lT4r1g-cqCWW"
      }
    },
    {
      "cell_type": "code",
      "source": [
        "class Rectangle:\n",
        "    def __init__(self):\n",
        "        self.length = 0\n",
        "        self.width = 0\n",
        "\n",
        "    def set_dimensions(self, length, width):\n",
        "        self.length = length\n",
        "        self.width = width\n",
        "\n",
        "    def area(self):\n",
        "        return self.length * self.width\n",
        "\n",
        "r = Rectangle()\n",
        "r.set_dimensions(5, 4)\n",
        "print(r.area())  # Output: 20"
      ],
      "metadata": {
        "id": "q3Nu6Ofpqmmm"
      },
      "execution_count": null,
      "outputs": []
    },
    {
      "cell_type": "markdown",
      "source": [
        "14. Create a clss employee with a method calculate_salary () that computes the salary based on hours worked and hourly rate . Create a derived class manager that adds a bonus to the salary ?"
      ],
      "metadata": {
        "id": "NAoSypk4rXCe"
      }
    },
    {
      "cell_type": "code",
      "source": [
        "class Employee:\n",
        "    def __init__(self, name, hours_worked, hourly_rate):\n",
        "        self.name = name\n",
        "        self.hours_worked = hours_worked\n",
        "        self.hourly_rate = hourly_rate\n",
        "\n",
        "    def calculate_salary(self):\n",
        "        return self.hours_worked * self.hourly_rate\n",
        "\n",
        "class Manager(Employee):\n",
        "    def __init__(self, name, hours_worked, hourly_rate, bonus):\n",
        "        super().__init__(name, hours_worked, hourly_rate)\n",
        "        self.bonus = bonus\n",
        "\n",
        "    def calculate_salary(self):\n",
        "        return super().calculate_salary() + self.bonus\n",
        "\n",
        "# Example usage:\n",
        "e = Employee(\"aditya \", 40, 20)\n",
        "m = Manager(\"ayush\", 40, 30, 500)\n",
        "print(e.calculate_salary())  # Output: 800\n",
        "print(m.calculate_salary())  # Output: 1700"
      ],
      "metadata": {
        "id": "gME8mbCEr8L1"
      },
      "execution_count": null,
      "outputs": []
    },
    {
      "cell_type": "markdown",
      "source": [
        "15. Create a class Product with attributes name, price, and quantity. Implement a method total_price() that\n",
        "calculates the total price of the product?\n"
      ],
      "metadata": {
        "id": "tKlhtKy2sE7t"
      }
    },
    {
      "cell_type": "code",
      "source": [
        "class Product:\n",
        "    def __init__(self, name, price, quantity):\n",
        "        self.name = name\n",
        "        self.price = price\n",
        "        self.quantity = quantity\n",
        "\n",
        "    def total_price(self):\n",
        "        return self.price * self.quantity\n",
        "\n",
        "# Example usage:\n",
        "p = Product(\"Laptop\", 1000, 3)\n",
        "print(p.total_price())  # Output: 3000"
      ],
      "metadata": {
        "id": "kUDGf5TUsmIt"
      },
      "execution_count": null,
      "outputs": []
    },
    {
      "cell_type": "markdown",
      "source": [
        "16. Create a class Animal with an abstract method sound(). Create two derived classes Cow and Sheep that\n",
        "implement the sound() method ?"
      ],
      "metadata": {
        "id": "41VjK8Ujsn9F"
      }
    },
    {
      "cell_type": "code",
      "source": [
        "from abc import ABC, abstractmethod\n",
        "\n",
        "class Animal(ABC):\n",
        "    @abstractmethod\n",
        "    def sound(self):\n",
        "        pass\n",
        "\n",
        "class Cow(Animal):\n",
        "    def sound(self):\n",
        "        return \"Moo\"\n",
        "\n",
        "class Sheep(Animal):\n",
        "    def sound(self):\n",
        "        return \"Baa\"\n",
        "\n",
        "cow = Cow()\n",
        "sheep = Sheep()\n",
        "print(cow.sound())  # Output: Moo\n",
        "print(sheep.sound())  # Output: Baa"
      ],
      "metadata": {
        "id": "U3YM5BUts5qd"
      },
      "execution_count": null,
      "outputs": []
    },
    {
      "cell_type": "markdown",
      "source": [
        " 17. Create a class Book with attributes title, author, and year_published. Add a method get_book_info() that\n",
        "returns a formatted string with the book's details?"
      ],
      "metadata": {
        "id": "HAxff2pCtAG9"
      }
    },
    {
      "cell_type": "code",
      "source": [
        "class Book:\n",
        "    def __init__(self, title, author, year_published):\n",
        "        self.title = title\n",
        "        self.author = author\n",
        "        self.year_published = year_published\n",
        "\n",
        "    def get_book_info(self):\n",
        "        return f\"'{self.title}' by {self.author}, published in {self.year_published}.\"\n",
        "\n",
        "# Example usage:\n",
        "b = Book(\"Balidan \", \"swapnil pandey\", 2023)\n",
        "print(b.get_book_info())"
      ],
      "metadata": {
        "id": "owr4O-8ytL4G"
      },
      "execution_count": null,
      "outputs": []
    },
    {
      "cell_type": "markdown",
      "source": [
        " 18. Create a class House with attributes address and price. Create a derived class Mansion that adds an\n",
        "attribute number_of_rooms?"
      ],
      "metadata": {
        "id": "0ijMXqDrtphF"
      }
    },
    {
      "cell_type": "code",
      "source": [
        "class House:\n",
        "    def __init__(self, address, price):\n",
        "        self.address = address\n",
        "        self.price = price\n",
        "\n",
        "class Mansion(House):\n",
        "    def __init__(self, address, price, number_of_rooms):\n",
        "        super().__init__(address, price)\n",
        "        self.number_of_rooms = number_of_rooms\n",
        "\n",
        "# Example usage:\n",
        "h = House(\"123, shivaji nagar\", 250000)\n",
        "m = Mansion(\"456 dlf campose\", 5000000, 10)\n",
        "print(h.address, h.price)\n",
        "print(m.address, m.price, m.number_of_rooms)\n"
      ],
      "metadata": {
        "id": "iD-yq61LtrgZ"
      },
      "execution_count": null,
      "outputs": []
    },
    {
      "cell_type": "markdown",
      "source": [
        "END"
      ],
      "metadata": {
        "id": "Evi8tlbbuGBd"
      }
    }
  ]
}